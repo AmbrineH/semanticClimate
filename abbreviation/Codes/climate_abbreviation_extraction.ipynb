{
  "nbformat": 4,
  "nbformat_minor": 0,
  "metadata": {
    "colab": {
      "name": "climate_abbreviation_extraction.ipynb",
      "provenance": [],
      "collapsed_sections": [],
      "mount_file_id": "1SCnQqmGC8KLTgAMjJQPBAHuKCFFX7evS",
      "authorship_tag": "ABX9TyPh9/DIxBM13B2nx9STEjtq",
      "include_colab_link": true
    },
    "kernelspec": {
      "name": "python3",
      "display_name": "Python 3"
    },
    "language_info": {
      "name": "python"
    }
  },
  "cells": [
    {
      "cell_type": "markdown",
      "metadata": {
        "id": "view-in-github",
        "colab_type": "text"
      },
      "source": [
        "<a href=\"https://colab.research.google.com/github/petermr/semanticClimate/blob/main/abbreviation/Codes/climate_abbreviation_extraction.ipynb\" target=\"_parent\"><img src=\"https://colab.research.google.com/assets/colab-badge.svg\" alt=\"Open In Colab\"/></a>"
      ]
    },
    {
      "cell_type": "code",
      "execution_count": 1,
      "metadata": {
        "colab": {
          "base_uri": "https://localhost:8080/"
        },
        "id": "Hqo4TDhn-3mp",
        "outputId": "6147548e-8567-4f13-e2b1-7741263ab96e"
      },
      "outputs": [
        {
          "output_type": "stream",
          "name": "stdout",
          "text": [
            "Cloning into 'pyami'...\n",
            "remote: Enumerating objects: 5767, done.\u001b[K\n",
            "remote: Counting objects: 100% (259/259), done.\u001b[K\n",
            "remote: Compressing objects: 100% (182/182), done.\u001b[K\n",
            "remote: Total 5767 (delta 147), reused 162 (delta 71), pack-reused 5508\u001b[K\n",
            "Receiving objects: 100% (5767/5767), 103.87 MiB | 24.44 MiB/s, done.\n",
            "Resolving deltas: 100% (2451/2451), done.\n"
          ]
        }
      ],
      "source": [
        "!git clone https://github.com/petermr/pyami.git"
      ]
    },
    {
      "cell_type": "code",
      "source": [
        "!pip install abbreviations\n",
        "!pip install scispacy==0.3.0"
      ],
      "metadata": {
        "colab": {
          "base_uri": "https://localhost:8080/"
        },
        "id": "2KGJREbNHVpU",
        "outputId": "0cf979c3-aee8-4f88-c34a-46ab92880e6e"
      },
      "execution_count": 2,
      "outputs": [
        {
          "output_type": "stream",
          "name": "stdout",
          "text": [
            "Looking in indexes: https://pypi.org/simple, https://us-python.pkg.dev/colab-wheels/public/simple/\n",
            "Collecting abbreviations\n",
            "  Downloading abbreviations-0.2.5-py3-none-any.whl (5.7 kB)\n",
            "Requirement already satisfied: regex in /usr/local/lib/python3.7/dist-packages (from abbreviations) (2019.12.20)\n",
            "Installing collected packages: abbreviations\n",
            "Successfully installed abbreviations-0.2.5\n",
            "Looking in indexes: https://pypi.org/simple, https://us-python.pkg.dev/colab-wheels/public/simple/\n",
            "Collecting scispacy==0.3.0\n",
            "  Downloading scispacy-0.3.0-py3-none-any.whl (42 kB)\n",
            "\u001b[K     |████████████████████████████████| 42 kB 1.1 MB/s \n",
            "\u001b[?25hCollecting spacy<3.0.0,>=2.3.0\n",
            "  Downloading spacy-2.3.7-cp37-cp37m-manylinux_2_17_x86_64.manylinux2014_x86_64.whl (10.4 MB)\n",
            "\u001b[K     |████████████████████████████████| 10.4 MB 22.6 MB/s \n",
            "\u001b[?25hRequirement already satisfied: requests<3.0.0conllu,>=2.0.0 in /usr/local/lib/python3.7/dist-packages (from scispacy==0.3.0) (2.23.0)\n",
            "Requirement already satisfied: numpy in /usr/local/lib/python3.7/dist-packages (from scispacy==0.3.0) (1.21.6)\n",
            "Collecting pysbd\n",
            "  Downloading pysbd-0.3.4-py3-none-any.whl (71 kB)\n",
            "\u001b[K     |████████████████████████████████| 71 kB 9.4 MB/s \n",
            "\u001b[?25hRequirement already satisfied: scikit-learn>=0.20.3 in /usr/local/lib/python3.7/dist-packages (from scispacy==0.3.0) (1.0.2)\n",
            "Collecting nmslib>=1.7.3.6\n",
            "  Downloading nmslib-2.1.1-cp37-cp37m-manylinux2010_x86_64.whl (13.5 MB)\n",
            "\u001b[K     |████████████████████████████████| 13.5 MB 50.6 MB/s \n",
            "\u001b[?25hRequirement already satisfied: joblib in /usr/local/lib/python3.7/dist-packages (from scispacy==0.3.0) (1.1.0)\n",
            "Requirement already satisfied: psutil in /usr/local/lib/python3.7/dist-packages (from nmslib>=1.7.3.6->scispacy==0.3.0) (5.4.8)\n",
            "Collecting pybind11<2.6.2\n",
            "  Downloading pybind11-2.6.1-py2.py3-none-any.whl (188 kB)\n",
            "\u001b[K     |████████████████████████████████| 188 kB 98.8 MB/s \n",
            "\u001b[?25hRequirement already satisfied: certifi>=2017.4.17 in /usr/local/lib/python3.7/dist-packages (from requests<3.0.0conllu,>=2.0.0->scispacy==0.3.0) (2022.5.18.1)\n",
            "Requirement already satisfied: chardet<4,>=3.0.2 in /usr/local/lib/python3.7/dist-packages (from requests<3.0.0conllu,>=2.0.0->scispacy==0.3.0) (3.0.4)\n",
            "Requirement already satisfied: urllib3!=1.25.0,!=1.25.1,<1.26,>=1.21.1 in /usr/local/lib/python3.7/dist-packages (from requests<3.0.0conllu,>=2.0.0->scispacy==0.3.0) (1.24.3)\n",
            "Requirement already satisfied: idna<3,>=2.5 in /usr/local/lib/python3.7/dist-packages (from requests<3.0.0conllu,>=2.0.0->scispacy==0.3.0) (2.10)\n",
            "Requirement already satisfied: scipy>=1.1.0 in /usr/local/lib/python3.7/dist-packages (from scikit-learn>=0.20.3->scispacy==0.3.0) (1.4.1)\n",
            "Requirement already satisfied: threadpoolctl>=2.0.0 in /usr/local/lib/python3.7/dist-packages (from scikit-learn>=0.20.3->scispacy==0.3.0) (3.1.0)\n",
            "Collecting thinc<7.5.0,>=7.4.1\n",
            "  Downloading thinc-7.4.5-cp37-cp37m-manylinux2014_x86_64.whl (1.0 MB)\n",
            "\u001b[K     |████████████████████████████████| 1.0 MB 65.8 MB/s \n",
            "\u001b[?25hRequirement already satisfied: murmurhash<1.1.0,>=0.28.0 in /usr/local/lib/python3.7/dist-packages (from spacy<3.0.0,>=2.3.0->scispacy==0.3.0) (1.0.7)\n",
            "Requirement already satisfied: srsly<1.1.0,>=1.0.2 in /usr/local/lib/python3.7/dist-packages (from spacy<3.0.0,>=2.3.0->scispacy==0.3.0) (1.0.5)\n",
            "Requirement already satisfied: preshed<3.1.0,>=3.0.2 in /usr/local/lib/python3.7/dist-packages (from spacy<3.0.0,>=2.3.0->scispacy==0.3.0) (3.0.6)\n",
            "Requirement already satisfied: tqdm<5.0.0,>=4.38.0 in /usr/local/lib/python3.7/dist-packages (from spacy<3.0.0,>=2.3.0->scispacy==0.3.0) (4.64.0)\n",
            "Requirement already satisfied: plac<1.2.0,>=0.9.6 in /usr/local/lib/python3.7/dist-packages (from spacy<3.0.0,>=2.3.0->scispacy==0.3.0) (1.1.3)\n",
            "Requirement already satisfied: cymem<2.1.0,>=2.0.2 in /usr/local/lib/python3.7/dist-packages (from spacy<3.0.0,>=2.3.0->scispacy==0.3.0) (2.0.6)\n",
            "Requirement already satisfied: setuptools in /usr/local/lib/python3.7/dist-packages (from spacy<3.0.0,>=2.3.0->scispacy==0.3.0) (57.4.0)\n",
            "Requirement already satisfied: blis<0.8.0,>=0.4.0 in /usr/local/lib/python3.7/dist-packages (from spacy<3.0.0,>=2.3.0->scispacy==0.3.0) (0.4.1)\n",
            "Requirement already satisfied: catalogue<1.1.0,>=0.0.7 in /usr/local/lib/python3.7/dist-packages (from spacy<3.0.0,>=2.3.0->scispacy==0.3.0) (1.0.0)\n",
            "Requirement already satisfied: wasabi<1.1.0,>=0.4.0 in /usr/local/lib/python3.7/dist-packages (from spacy<3.0.0,>=2.3.0->scispacy==0.3.0) (0.9.1)\n",
            "Requirement already satisfied: importlib-metadata>=0.20 in /usr/local/lib/python3.7/dist-packages (from catalogue<1.1.0,>=0.0.7->spacy<3.0.0,>=2.3.0->scispacy==0.3.0) (4.11.4)\n",
            "Requirement already satisfied: zipp>=0.5 in /usr/local/lib/python3.7/dist-packages (from importlib-metadata>=0.20->catalogue<1.1.0,>=0.0.7->spacy<3.0.0,>=2.3.0->scispacy==0.3.0) (3.8.0)\n",
            "Requirement already satisfied: typing-extensions>=3.6.4 in /usr/local/lib/python3.7/dist-packages (from importlib-metadata>=0.20->catalogue<1.1.0,>=0.0.7->spacy<3.0.0,>=2.3.0->scispacy==0.3.0) (4.2.0)\n",
            "Installing collected packages: thinc, pybind11, spacy, pysbd, nmslib, scispacy\n",
            "  Attempting uninstall: thinc\n",
            "    Found existing installation: thinc 7.4.0\n",
            "    Uninstalling thinc-7.4.0:\n",
            "      Successfully uninstalled thinc-7.4.0\n",
            "  Attempting uninstall: spacy\n",
            "    Found existing installation: spacy 2.2.4\n",
            "    Uninstalling spacy-2.2.4:\n",
            "      Successfully uninstalled spacy-2.2.4\n",
            "Successfully installed nmslib-2.1.1 pybind11-2.6.1 pysbd-0.3.4 scispacy-0.3.0 spacy-2.3.7 thinc-7.4.5\n"
          ]
        }
      ]
    },
    {
      "cell_type": "code",
      "source": [
        "%cd /content/drive/MyDrive/"
      ],
      "metadata": {
        "colab": {
          "base_uri": "https://localhost:8080/"
        },
        "id": "mMiBsyxpRhUM",
        "outputId": "d2ed21fe-f5fb-42fb-89cc-6e3176b883aa"
      },
      "execution_count": 3,
      "outputs": [
        {
          "output_type": "stream",
          "name": "stdout",
          "text": [
            "/content/drive/MyDrive\n"
          ]
        }
      ]
    },
    {
      "cell_type": "code",
      "source": [
        "import spacy\n",
        "import scispacy\n",
        "from bs4 import BeautifulSoup\n",
        "from abbreviations import schwartz_hearst\n",
        "from scispacy.abbreviation import AbbreviationDetector\n",
        "\n",
        "import os\n",
        "for i in range(1,30):\n",
        "  path = './'\n",
        "  head_folder = path + f'Pages_climate_report/page_{i}' +'/'\n",
        "  if not os.path.exists(head_folder):\n",
        "    os.makedirs(head_folder)\n",
        "  print(f'{i}---------------')\n",
        "  with open(f'/content/pyami/temp/html/page.{i}.html', 'r') as f:\n",
        "      html = f.read()\n",
        "      soup = BeautifulSoup(html, features=\"html.parser\")\n",
        "\n",
        "      # kill all script and style elements\n",
        "      for script in soup([\"script\", \"style\"]):\n",
        "          script.extract()    # rip it out\n",
        "\n",
        "      # get text\n",
        "      text = soup.get_text()\n",
        "\n",
        "      # break into lines and remove leading and trailing space on each\n",
        "      lines = (line.strip() for line in text.splitlines())\n",
        "      # break multi-headlines into a line each\n",
        "      chunks = (phrase.strip() for line in lines for phrase in line.split(\"  \"))\n",
        "      # drop blank lines\n",
        "      #text_write = '\\n'.join(chunk for chunk in chunks if chunk)\n",
        "      text = '\\n'.join(chunk for chunk in chunks if chunk)\n",
        "\n",
        "      #print(text)\n",
        "      pairs = schwartz_hearst.extract_abbreviation_definition_pairs(doc_text= text)\n",
        "      #print('pairs',pairs)\n",
        "      \n",
        "      TEXT_ = f'page_{i}_text.txt'\n",
        "      DICTIONARY_SH = f'page_{i}_dictionary_SH.txt'\n",
        "      DICTIONARY_Spacy= f'page_{i}_dictionary_Spacy.txt'\n",
        "      with open(head_folder + TEXT_, 'w') as file:\n",
        "          file.write(text)\n",
        "      \n",
        "      with open(head_folder + DICTIONARY_SH, 'w') as file:\n",
        "          for key, value in pairs.items():\n",
        "            #print(key, value )\n",
        "            file.write('{'+str(key)+' : '+ str(value)+\"}\")\n",
        "            file.write('\\n')\n",
        "      \n",
        "\n",
        "      nlp = spacy.load(\"en_core_web_sm\")\n",
        "\n",
        "      abbreviation_pipe = AbbreviationDetector(nlp)\n",
        "      nlp.add_pipe(abbreviation_pipe)\n",
        "      doc = nlp(text)\n",
        "      altered_tok = [tok.text for tok in doc]\n",
        "      with open(head_folder + DICTIONARY_Spacy, 'w') as file:\n",
        "          for abrv in doc._.abbreviations:\n",
        "            \n",
        "            #print(abrv ,abrv._.long_form)\n",
        "            #print(key, value )\n",
        "            file.write('{'+str(abrv)+' : '+ str(abrv._.long_form)+\"}\")  \n",
        "            file.write('\\n')    "
      ],
      "metadata": {
        "id": "GRZnZgpw_ju6",
        "colab": {
          "base_uri": "https://localhost:8080/"
        },
        "outputId": "c50aa912-546b-4900-a05e-1a4ef5c22c34"
      },
      "execution_count": 4,
      "outputs": [
        {
          "output_type": "stream",
          "name": "stdout",
          "text": [
            "hello\n",
            "EVs electric vehicles\n",
            "13---------------\n",
            "14---------------\n",
            "hello\n",
            "LCOE levelised costs of energy\n",
            "\n",
            "hello\n",
            "LCOE levelised costs of energy\n",
            "\n",
            "hello\n",
            "LCOE levelised costs of energy\n",
            "\n",
            "hello\n",
            "LCOE levelised costs of energy\n",
            "\n",
            "15---------------\n",
            "hello\n",
            "ESG environmental, social and\n",
            "governance\n",
            "hello\n",
            "NDCs nationally\n",
            "determined contributions\n",
            "hello\n",
            "NDCs nationally\n",
            "determined contributions\n",
            "hello\n",
            "NDCs nationally\n",
            "determined contributions\n",
            "hello\n",
            "NDCs nationally\n",
            "determined contributions\n",
            "16---------------\n",
            "17---------------\n",
            "18---------------\n",
            "19---------------\n",
            "20---------------\n",
            "21---------------\n",
            "22---------------\n",
            "23---------------\n",
            "24---------------\n",
            "25---------------\n",
            "CDR carbon dioxide removal\n",
            "hello\n",
            "CDR carbon dioxide removal\n",
            "26---------------\n",
            "27---------------\n",
            "28---------------\n",
            "29---------------\n"
          ]
        }
      ]
    },
    {
      "cell_type": "markdown",
      "source": [
        "#using scispacy example"
      ],
      "metadata": {
        "id": "Bjd0AfJinFR6"
      }
    },
    {
      "cell_type": "code",
      "source": [
        "# #!pip install scispacy==0.3.0\n",
        "# import spacy\n",
        "# import scispacy\n",
        "# print(scispacy.__version__)\n",
        "# from scispacy.abbreviation import AbbreviationDetector\n",
        "# #from scispacy.abbreviation import AbbreviationDetector\n",
        "\n",
        "# nlp = spacy.load(\"en_core_web_sm\")\n",
        "\n",
        "# abbreviation_pipe = AbbreviationDetector(nlp)\n",
        "# nlp.add_pipe(abbreviation_pipe)\n",
        "\n",
        "# text = \"StackOverflow (SO) is a question and answer site for professional and enthusiast programmers. SO rocks!\"\n",
        "\n",
        "\n",
        "# doc = nlp(text)\n",
        "# altered_tok = [tok.text for tok in doc]\n",
        "# for abrv in doc._.abbreviations:\n",
        "#   print(abrv ,abrv._.long_form)\n",
        "    \n",
        "# #replace_acronyms(text)"
      ],
      "metadata": {
        "id": "7ZprmhWAnG_p",
        "colab": {
          "base_uri": "https://localhost:8080/"
        },
        "outputId": "6d7a69bc-bd1a-4419-8935-3ece5de2ac0f"
      },
      "execution_count": 9,
      "outputs": [
        {
          "output_type": "stream",
          "name": "stdout",
          "text": [
            "0.3.0\n"
          ]
        },
        {
          "output_type": "stream",
          "name": "stderr",
          "text": [
            "/usr/local/lib/python3.7/dist-packages/spacy/util.py:275: UserWarning: [W031] Model 'en_core_web_sm' (2.2.5) requires spaCy v2.2 and is incompatible with the current spaCy version (2.3.7). This may lead to unexpected results or runtime errors. To resolve this, download a newer compatible model or retrain your custom model with the current spaCy version. For more details and available updates, run: python -m spacy validate\n",
            "  warnings.warn(warn_msg)\n"
          ]
        },
        {
          "output_type": "stream",
          "name": "stdout",
          "text": [
            "SO StackOverflow\n",
            "SO StackOverflow\n"
          ]
        }
      ]
    },
    {
      "cell_type": "code",
      "source": [
        ""
      ],
      "metadata": {
        "id": "hAQ7Wt7eqxLG"
      },
      "execution_count": 5,
      "outputs": []
    }
  ]
}